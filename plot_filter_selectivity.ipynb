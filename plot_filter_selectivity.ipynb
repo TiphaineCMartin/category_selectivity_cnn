{
 "cells": [
  {
   "cell_type": "code",
   "execution_count": 1,
   "metadata": {},
   "outputs": [
    {
     "data": {
      "text/html": [
       "<script>requirejs.config({paths: { 'plotly': ['https://cdn.plot.ly/plotly-latest.min']},});if(!window.Plotly) {{require(['plotly'],function(plotly) {window.Plotly=plotly;});}}</script>"
      ],
      "text/vnd.plotly.v1+html": [
       "<script>requirejs.config({paths: { 'plotly': ['https://cdn.plot.ly/plotly-latest.min']},});if(!window.Plotly) {{require(['plotly'],function(plotly) {window.Plotly=plotly;});}}</script>"
      ]
     },
     "metadata": {},
     "output_type": "display_data"
    }
   ],
   "source": [
    "import numpy as np\n",
    "import pandas as pd\n",
    "import os\n",
    "import glob\n",
    "\n",
    "# !pip install ipywidgets\n",
    "# Run before you create a new notebook with widgets\n",
    "# !jupyter nbextension enable --py --sys-prefix widgetsnbextension\n",
    "import ipywidgets as widgets\n",
    "\n",
    "# !pip install plotly\n",
    "import plotly as py\n",
    "import plotly.graph_objs as go\n",
    "\n",
    "py.offline.init_notebook_mode(connected=True)   # for offline mode use\n",
    "\n",
    "from helpers import natural_sort"
   ]
  },
  {
   "cell_type": "code",
   "execution_count": 2,
   "metadata": {},
   "outputs": [
    {
     "name": "stdout",
     "output_type": "stream",
     "text": [
      "(23040, 5)\n"
     ]
    },
    {
     "data": {
      "text/html": [
       "<div>\n",
       "<style scoped>\n",
       "    .dataframe tbody tr th:only-of-type {\n",
       "        vertical-align: middle;\n",
       "    }\n",
       "\n",
       "    .dataframe tbody tr th {\n",
       "        vertical-align: top;\n",
       "    }\n",
       "\n",
       "    .dataframe thead th {\n",
       "        text-align: right;\n",
       "    }\n",
       "</style>\n",
       "<table border=\"1\" class=\"dataframe\">\n",
       "  <thead>\n",
       "    <tr style=\"text-align: right;\">\n",
       "      <th></th>\n",
       "      <th>filter</th>\n",
       "      <th>category</th>\n",
       "      <th>selectivity</th>\n",
       "      <th>label</th>\n",
       "      <th>layer</th>\n",
       "    </tr>\n",
       "  </thead>\n",
       "  <tbody>\n",
       "    <tr>\n",
       "      <th>0</th>\n",
       "      <td>0</td>\n",
       "      <td>0</td>\n",
       "      <td>-0.000099</td>\n",
       "      <td>furniture</td>\n",
       "      <td>block5_conv3</td>\n",
       "    </tr>\n",
       "    <tr>\n",
       "      <th>1</th>\n",
       "      <td>1</td>\n",
       "      <td>0</td>\n",
       "      <td>-0.000468</td>\n",
       "      <td>furniture</td>\n",
       "      <td>block5_conv3</td>\n",
       "    </tr>\n",
       "    <tr>\n",
       "      <th>2</th>\n",
       "      <td>2</td>\n",
       "      <td>0</td>\n",
       "      <td>-0.001807</td>\n",
       "      <td>furniture</td>\n",
       "      <td>block5_conv3</td>\n",
       "    </tr>\n",
       "    <tr>\n",
       "      <th>3</th>\n",
       "      <td>3</td>\n",
       "      <td>0</td>\n",
       "      <td>-0.000057</td>\n",
       "      <td>furniture</td>\n",
       "      <td>block5_conv3</td>\n",
       "    </tr>\n",
       "    <tr>\n",
       "      <th>4</th>\n",
       "      <td>4</td>\n",
       "      <td>0</td>\n",
       "      <td>-0.001234</td>\n",
       "      <td>furniture</td>\n",
       "      <td>block5_conv3</td>\n",
       "    </tr>\n",
       "  </tbody>\n",
       "</table>\n",
       "</div>"
      ],
      "text/plain": [
       "   filter  category  selectivity      label         layer\n",
       "0       0         0    -0.000099  furniture  block5_conv3\n",
       "1       1         0    -0.000468  furniture  block5_conv3\n",
       "2       2         0    -0.001807  furniture  block5_conv3\n",
       "3       3         0    -0.000057  furniture  block5_conv3\n",
       "4       4         0    -0.001234  furniture  block5_conv3"
      ]
     },
     "execution_count": 2,
     "metadata": {},
     "output_type": "execute_result"
    }
   ],
   "source": [
    "# merge all df into one\n",
    "df = pd.read_csv('selectivity_vgg16.csv')\n",
    "print(df.shape)\n",
    "df.head()"
   ]
  },
  {
   "cell_type": "code",
   "execution_count": 3,
   "metadata": {
    "scrolled": false
   },
   "outputs": [
    {
     "data": {
      "application/vnd.jupyter.widget-view+json": {
       "model_id": "d90f4bd8a9484c38bf5efdfe6213e2f8",
       "version_major": 2,
       "version_minor": 0
      },
      "text/html": [
       "<p>Failed to display Jupyter Widget of type <code>interactive</code>.</p>\n",
       "<p>\n",
       "  If you're reading this message in the Jupyter Notebook or JupyterLab Notebook, it may mean\n",
       "  that the widgets JavaScript is still loading. If this message persists, it\n",
       "  likely means that the widgets JavaScript library is either not installed or\n",
       "  not enabled. See the <a href=\"https://ipywidgets.readthedocs.io/en/stable/user_install.html\">Jupyter\n",
       "  Widgets Documentation</a> for setup instructions.\n",
       "</p>\n",
       "<p>\n",
       "  If you're reading this message in another frontend (for example, a static\n",
       "  rendering on GitHub or <a href=\"https://nbviewer.jupyter.org/\">NBViewer</a>),\n",
       "  it may mean that your frontend doesn't currently support widgets.\n",
       "</p>\n"
      ],
      "text/plain": [
       "interactive(children=(SelectMultiple(description='Categories', index=(0, 1, 2, 3, 4, 5), options=('furniture', 'dog', 'iseeface', 'cat', 'portrait', 'car'), value=('furniture', 'dog', 'iseeface', 'cat', 'portrait', 'car')), Dropdown(description='Layer:', options=('block3_conv1', 'block3_conv2', 'block3_conv3', 'block4_conv1', 'block4_conv2', 'block4_conv3', 'block5_conv1', 'block5_conv2', 'block5_conv3'), value='block3_conv1'), Dropdown(description='Sort by', options=('furniture', 'dog', 'iseeface', 'cat', 'portrait', 'car'), value='furniture'), IntRangeSlider(value=(0, 512), description='Filter range:', max=512), Output()), _dom_classes=('widget-interact',))"
      ]
     },
     "metadata": {},
     "output_type": "display_data"
    }
   ],
   "source": [
    "layout = go.Layout(\n",
    "    title='<b>Category selectivity for filters</b>',\n",
    "    yaxis=dict(\n",
    "        title='<i>Selectivity</i>'\n",
    "    ),\n",
    "    xaxis=dict(\n",
    "        title='<i>Filter</i>',\n",
    "        tickangle=-90\n",
    "    ),\n",
    "    barmode='group',\n",
    ")\n",
    "\n",
    "def update_plot(categories, layer, sort_category, num_filters):\n",
    "    \n",
    "    \"\"\"\n",
    "    This function updates the plot everytime a widget is changed\n",
    "    \"\"\"\n",
    "    d = df.loc[(df['filter'] >= num_filters[0]) & \\\n",
    "              (df['filter'] < num_filters[1]) & \\\n",
    "              (df['layer'] == layer), :].copy()\n",
    "    d['filter'] = 'f_' + d['filter'].astype(str)\n",
    "    \n",
    "    list_ordering = [sort_category] + [x for x in d['label'].unique() if x != sort_category]\n",
    "    cat_type = pd.api.types.CategoricalDtype(categories=list_ordering, ordered=True) \n",
    "    d['label'].astype(cat_type)\n",
    "    d.sort_values(by=['label', 'selectivity'], ascending=[True, False], inplace=True)\n",
    "    \n",
    "    categories = [c for c in list_ordering if c in categories]\n",
    "    \n",
    "    data = []\n",
    "    for c in categories: \n",
    "        group = d.loc[(d['label'] == c)] \n",
    "         \n",
    "        trace1 = go.Bar(\n",
    "            x=group['filter'],\n",
    "            y=group['selectivity'],\n",
    "            name='category {}'.format(c),\n",
    "        )\n",
    "        data.append(trace1)\n",
    "        \n",
    "    fig = go.Figure(data=data, layout=layout)\n",
    "    py.offline.iplot(fig)\n",
    "    \n",
    "layers_ = natural_sort(df['layer'].unique())\n",
    "\n",
    "layer = widgets.Dropdown(\n",
    "    options=layers_, \n",
    "    value=layers_[0], \n",
    "    description='Layer:')\n",
    "\n",
    "num_filters = widgets.IntRangeSlider(\n",
    "    min=0, max=512, \n",
    "    value=(0, 512), \n",
    "    description='Filter range:')\n",
    "\n",
    "sort_category = widgets.Dropdown(\n",
    "    options=df['label'].unique().tolist(), \n",
    "    description='Sort by')\n",
    "\n",
    "categories = widgets.SelectMultiple(\n",
    "    options=df['label'].unique().tolist(), \n",
    "    value=df['label'].unique().tolist(),\n",
    "    description='Categories')\n",
    "\n",
    "g = widgets.interact(update_plot, categories=categories, layer=layer, \n",
    "                     sort_category=sort_category, num_filters=num_filters)"
   ]
  },
  {
   "cell_type": "code",
   "execution_count": 4,
   "metadata": {
    "scrolled": false
   },
   "outputs": [
    {
     "data": {
      "application/vnd.jupyter.widget-view+json": {
       "model_id": "05ee848a9ebe45679f23920683cb96ed",
       "version_major": 2,
       "version_minor": 0
      },
      "text/html": [
       "<p>Failed to display Jupyter Widget of type <code>interactive</code>.</p>\n",
       "<p>\n",
       "  If you're reading this message in the Jupyter Notebook or JupyterLab Notebook, it may mean\n",
       "  that the widgets JavaScript is still loading. If this message persists, it\n",
       "  likely means that the widgets JavaScript library is either not installed or\n",
       "  not enabled. See the <a href=\"https://ipywidgets.readthedocs.io/en/stable/user_install.html\">Jupyter\n",
       "  Widgets Documentation</a> for setup instructions.\n",
       "</p>\n",
       "<p>\n",
       "  If you're reading this message in another frontend (for example, a static\n",
       "  rendering on GitHub or <a href=\"https://nbviewer.jupyter.org/\">NBViewer</a>),\n",
       "  it may mean that your frontend doesn't currently support widgets.\n",
       "</p>\n"
      ],
      "text/plain": [
       "interactive(children=(SelectMultiple(description='Categories', index=(0,), options=('furniture', 'dog', 'iseeface', 'cat', 'portrait', 'car'), value=('furniture',)), SelectMultiple(description='Layers:', index=(0, 1, 2, 3, 4, 5, 6, 7, 8), options=('block3_conv1', 'block3_conv2', 'block3_conv3', 'block4_conv1', 'block4_conv2', 'block4_conv3', 'block5_conv1', 'block5_conv2', 'block5_conv3'), value=('block3_conv1', 'block3_conv2', 'block3_conv3', 'block4_conv1', 'block4_conv2', 'block4_conv3', 'block5_conv1', 'block5_conv2', 'block5_conv3')), Dropdown(description='Sort by', options=('furniture', 'dog', 'iseeface', 'cat', 'portrait', 'car'), value='furniture'), IntSlider(value=1, description='Top filters:', max=10, min=1), Output()), _dom_classes=('widget-interact',))"
      ]
     },
     "metadata": {},
     "output_type": "display_data"
    }
   ],
   "source": [
    "layout = go.Layout(\n",
    "    title='<b>Category selectivity for filters</b>',\n",
    "    yaxis=dict(\n",
    "        title='<i>Selectivity</i>'\n",
    "    ),\n",
    "    xaxis=dict(\n",
    "        title='<i>Filter</i>',\n",
    "        tickangle=-60,\n",
    "        showticklabels=True,\n",
    "        showgrid=True,\n",
    "        showaxeslabels=True,\n",
    "        tickfont=dict(\n",
    "            family='Old Standard TT, serif',\n",
    "            size=14,\n",
    "            color='black'\n",
    "        )\n",
    "    ),\n",
    "    barmode='group',\n",
    "    margin=dict(\n",
    "    b= 20*8 # maxLabelLength * letterWidth\n",
    "    ),\n",
    ")\n",
    "\n",
    "\n",
    "\n",
    "def update_top_plot(categories, layers, sort_category, num_top):\n",
    "    \n",
    "    \"\"\"\n",
    "    This function updates the plot everytime a widget is changed\n",
    "    \"\"\"\n",
    "    # select top n filers per category per layer\n",
    "    top_filters = (df.loc[(df['label'] == sort_category) & (df['layer'].isin(layers))]\n",
    "             .groupby(by =['layer',  'filter'])\n",
    "             .sum()\n",
    "             .reset_index()\n",
    "             .sort_values(['layer', 'selectivity'], ascending=[1,0])\n",
    "             .groupby('layer').head(num_top)\n",
    "         )[['layer', 'filter']]\n",
    "    # find values in other categories per these combinations\n",
    "    merged = df.merge(top_filters, how='outer', indicator=True)\n",
    "    d = merged.copy()\n",
    "    d = d[d['_merge'] == 'both']\n",
    "    \n",
    "    d['filter_layer'] = d['layer'] + '_' + d['filter'].astype(str)\n",
    "    list_ordering = [sort_category] + [x for x in d['label'].unique() if x != sort_category]\n",
    "    cat_type = pd.api.types.CategoricalDtype(categories=list_ordering, ordered=True)\n",
    "    d['label'].astype(cat_type)\n",
    "    d.sort_values(by=['label', 'selectivity'], ascending=[True, False], inplace=True)\n",
    "    categories = [c for c in list_ordering if c in categories]\n",
    "    \n",
    "    data = []\n",
    "    for c in categories: \n",
    "        group = d.loc[(d['label'] == c)] \n",
    "        trace1 = go.Bar(\n",
    "            x=group['filter_layer'],\n",
    "            y=group['selectivity'],\n",
    "            name='{}'.format(c),\n",
    "        )\n",
    "        data.append(trace1)\n",
    "        \n",
    "    fig = go.Figure(data=data, layout=layout)\n",
    "    py.offline.iplot(fig)\n",
    "    \n",
    "layers_ = natural_sort(df['layer'].unique())\n",
    "\n",
    "layers = widgets.SelectMultiple(\n",
    "    options=layers_, \n",
    "    value=(layers_),\n",
    "    description='Layers:')\n",
    "\n",
    "num_top = widgets.IntSlider(\n",
    "    min=1, max=10, \n",
    "    value=1, \n",
    "    description='Top filters:')\n",
    "\n",
    "sort_category = widgets.Dropdown(\n",
    "    options=df['label'].unique().tolist(), \n",
    "    description='Sort by')\n",
    "\n",
    "categories = widgets.SelectMultiple(\n",
    "    options=df['label'].unique().tolist(), \n",
    "    value=(df['label'].unique()[0],),\n",
    "    description='Categories')\n",
    "\n",
    "g = widgets.interact(update_top_plot, categories=categories, layers=layers, \n",
    "                     sort_category=sort_category, num_top=num_top)"
   ]
  }
 ],
 "metadata": {
  "kernelspec": {
   "display_name": "Python 3",
   "language": "python",
   "name": "python3"
  },
  "language_info": {
   "codemirror_mode": {
    "name": "ipython",
    "version": 3
   },
   "file_extension": ".py",
   "mimetype": "text/x-python",
   "name": "python",
   "nbconvert_exporter": "python",
   "pygments_lexer": "ipython3",
   "version": "3.5.4"
  }
 },
 "nbformat": 4,
 "nbformat_minor": 2
}
